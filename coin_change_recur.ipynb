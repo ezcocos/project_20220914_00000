{
 "cells": [
  {
   "cell_type": "markdown",
   "id": "0ddcb990",
   "metadata": {},
   "source": [
    "# Coin change"
   ]
  },
  {
   "cell_type": "code",
   "execution_count": 1,
   "id": "2a4992c1",
   "metadata": {
    "ExecuteTime": {
     "end_time": "2022-09-14T07:25:24.904519Z",
     "start_time": "2022-09-14T07:25:24.902276Z"
    }
   },
   "outputs": [],
   "source": [
    "import sys\n",
    "from datetime import datetime"
   ]
  },
  {
   "cell_type": "markdown",
   "id": "9716dccb",
   "metadata": {},
   "source": [
    "## Definitions and functions"
   ]
  },
  {
   "cell_type": "code",
   "execution_count": 2,
   "id": "eea3254a",
   "metadata": {
    "ExecuteTime": {
     "end_time": "2022-09-14T07:25:24.912568Z",
     "start_time": "2022-09-14T07:25:24.906158Z"
    }
   },
   "outputs": [],
   "source": [
    "\n",
    "coins_change = (0.01, 0.02, 0.05, 0.1, 0.2, 0.5, 1., 2.)\n",
    "\n",
    "\n",
    "def get_money(money_str):\n",
    "    pound, pence = money_str.split('-')\n",
    "    return eval(pound) + eval('0' if pence == '' else pence)/100.0\n",
    "\n",
    "def change_money_rec(money_change, coins_change):\n",
    "    if money_change[0] <= 0:\n",
    "        return [money_change]\n",
    "\n",
    "    results = []\n",
    "    for i in range(len(coins_change)):\n",
    "        c = coins_change[i]\n",
    "        if money_change[0] - c >= 0:\n",
    "            results += change_money_rec(((money_change[0]*100 - c*100)/100, money_change[1] + [c]), coins_change[i:])\n",
    "    return results\n",
    "\n",
    "\n",
    "def change_money(money, coins_change):\n",
    "    return [r[1] for r in change_money_rec((money, []), coins_change)]\n",
    "\n",
    "def change_money_odd(money, coins_change):\n",
    "    results_complete = change_money(money, coins_change)\n",
    "    print(f\"Number of complete results: {len(results_complete)}\")\n",
    "\n",
    "    results_odd = [r for r in results_complete if (len(r) % 2 != 0)]\n",
    "    print(f\"Number of odd results: {len(results_odd)}\")\n",
    "\n",
    "    return results_complete, results_odd\n",
    "\n",
    "def str_list_of_list(ll):\n",
    "    return '[]'.join([', '.join([str(v) for v in l]) for l in ll])\n",
    "\n",
    "def process(money_str, coins_change):\n",
    "    money = get_money(money_str)\n",
    "\n",
    "    #########################################################\n",
    "    # Processing coin change...\n",
    "    #########################################################\n",
    "    start_time = datetime.now()\n",
    "    # Processing coin changes\n",
    "    print(f\"Processing money for change: {money} ({money_str})\")\n",
    "    complete_results, odd_results = change_money_odd(money, coins_change)\n",
    "\n",
    "    end_processed = datetime.now()\n",
    "    print('\\nProcessing time (hh:mm:ss.ms) {}'.format(end_processed - start_time))\n",
    "\n",
    "    #########################################################\n",
    "    # Saving complete results\n",
    "    #########################################################\n",
    "    complete_fn = f\"./data/money_str_complete_{money_str.replace('-', '_')}.txt\"\n",
    "    print(f\"\\n\\nSaving complete results to -> {complete_fn}\")\n",
    "    f = open(complete_fn, \"w\")\n",
    "    f.write(str_list_of_list(complete_results))\n",
    "    f.close()\n",
    "\n",
    "    end_saving_complete = datetime.now()\n",
    "    print('Saving time complete (hh:mm:ss.ms) {}'.format(end_saving_complete - end_processed))\n",
    "\n",
    "\n",
    "    #########################################################\n",
    "    # Saving odd results\n",
    "    #########################################################\n",
    "    odd_fn = f\"./data/money_str_odd_{money_str.replace('-', '_')}.txt\"\n",
    "    print(f\"\\nSaving odd results to -> {odd_fn}\")\n",
    "    f = open(odd_fn, \"w\")\n",
    "    f.write(str_list_of_list(odd_results))\n",
    "    f.close()\n",
    "\n",
    "    end_saving_odd = datetime.now()\n",
    "    print('Saving time (hh:mm:ss.ms) {}'.format(end_saving_odd - end_saving_complete))"
   ]
  },
  {
   "cell_type": "markdown",
   "id": "778b8969",
   "metadata": {},
   "source": [
    "## Testing"
   ]
  },
  {
   "cell_type": "code",
   "execution_count": 3,
   "id": "b4575d42",
   "metadata": {
    "ExecuteTime": {
     "end_time": "2022-09-14T07:25:24.939565Z",
     "start_time": "2022-09-14T07:25:24.914691Z"
    }
   },
   "outputs": [
    {
     "name": "stdout",
     "output_type": "stream",
     "text": [
      "Processing money for change: 0.05 (0-5)\n",
      "Number of complete results: 4\n",
      "Number of odd results: 3\n",
      "\n",
      "Processing time (hh:mm:ss.ms) 0:00:00.000061\n",
      "\n",
      "\n",
      "Saving complete results to -> ./data/money_str_complete_0_5.txt\n",
      "Saving time complete (hh:mm:ss.ms) 0:00:00.021979\n",
      "\n",
      "Saving odd results to -> ./data/money_str_odd_0_5.txt\n",
      "Saving time (hh:mm:ss.ms) 0:00:00.000379\n"
     ]
    }
   ],
   "source": [
    "# Testing\n",
    "process(\"0-5\", coins_change)"
   ]
  },
  {
   "cell_type": "markdown",
   "id": "3f3312cd",
   "metadata": {},
   "source": [
    "## Case 1: \"0-50\""
   ]
  },
  {
   "cell_type": "code",
   "execution_count": 4,
   "id": "7abfe7c5",
   "metadata": {
    "ExecuteTime": {
     "end_time": "2022-09-14T07:25:24.951570Z",
     "start_time": "2022-09-14T07:25:24.941228Z"
    }
   },
   "outputs": [
    {
     "name": "stdout",
     "output_type": "stream",
     "text": [
      "Processing money for change: 0.5 (0-50)\n",
      "Number of complete results: 261\n",
      "Number of odd results: 130\n",
      "\n",
      "Processing time (hh:mm:ss.ms) 0:00:00.004122\n",
      "\n",
      "\n",
      "Saving complete results to -> ./data/money_str_complete_0_50.txt\n",
      "Saving time complete (hh:mm:ss.ms) 0:00:00.002974\n",
      "\n",
      "Saving odd results to -> ./data/money_str_odd_0_50.txt\n",
      "Saving time (hh:mm:ss.ms) 0:00:00.000688\n"
     ]
    }
   ],
   "source": [
    "process(\"0-50\", coins_change)"
   ]
  },
  {
   "cell_type": "markdown",
   "id": "e4036d5a",
   "metadata": {},
   "source": [
    "# Case 2: \"2-\""
   ]
  },
  {
   "cell_type": "code",
   "execution_count": 5,
   "id": "ce17641b",
   "metadata": {
    "ExecuteTime": {
     "end_time": "2022-09-14T07:25:26.796989Z",
     "start_time": "2022-09-14T07:25:24.953215Z"
    }
   },
   "outputs": [
    {
     "name": "stdout",
     "output_type": "stream",
     "text": [
      "Processing money for change: 2.0 (2-)\n",
      "Number of complete results: 6769\n",
      "Number of odd results: 3383\n",
      "\n",
      "Processing time (hh:mm:ss.ms) 0:00:01.782584\n",
      "\n",
      "\n",
      "Saving complete results to -> ./data/money_str_complete_2_.txt\n",
      "Saving time complete (hh:mm:ss.ms) 0:00:00.039645\n",
      "\n",
      "Saving odd results to -> ./data/money_str_odd_2_.txt\n",
      "Saving time (hh:mm:ss.ms) 0:00:00.018182\n"
     ]
    }
   ],
   "source": [
    "process(\"2-\", coins_change)"
   ]
  },
  {
   "cell_type": "markdown",
   "id": "1abfb7f7",
   "metadata": {},
   "source": [
    "## Case 3: \"10-\"\n",
    "This case took too long to run...\n",
    "\n",
    "We had not had time to improve the code not use further technologies"
   ]
  },
  {
   "cell_type": "code",
   "execution_count": 6,
   "id": "d95be9af",
   "metadata": {
    "ExecuteTime": {
     "end_time": "2022-09-14T07:25:26.800991Z",
     "start_time": "2022-09-14T07:25:26.798544Z"
    }
   },
   "outputs": [],
   "source": [
    "# process(\"10-\", coins_change)"
   ]
  },
  {
   "cell_type": "markdown",
   "id": "a5876a89",
   "metadata": {},
   "source": [
    "## Case 4: \"100-\"\n",
    "Same as above..."
   ]
  },
  {
   "cell_type": "code",
   "execution_count": 7,
   "id": "d0065901",
   "metadata": {
    "ExecuteTime": {
     "end_time": "2022-09-14T07:25:26.805044Z",
     "start_time": "2022-09-14T07:25:26.802826Z"
    }
   },
   "outputs": [],
   "source": [
    "# process(\"100-\", coins_change)"
   ]
  }
 ],
 "metadata": {
  "kernelspec": {
   "display_name": "Python [conda env:python3_10] *",
   "language": "python",
   "name": "conda-env-python3_10-py"
  },
  "language_info": {
   "codemirror_mode": {
    "name": "ipython",
    "version": 3
   },
   "file_extension": ".py",
   "mimetype": "text/x-python",
   "name": "python",
   "nbconvert_exporter": "python",
   "pygments_lexer": "ipython3",
   "version": "3.10.4"
  }
 },
 "nbformat": 4,
 "nbformat_minor": 5
}
